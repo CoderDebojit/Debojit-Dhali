{
 "cells": [
  {
   "cell_type": "code",
   "execution_count": 9,
   "id": "minor-capital",
   "metadata": {},
   "outputs": [],
   "source": [
    "import tkinter as tk\n",
    "import math"
   ]
  },
  {
   "cell_type": "code",
   "execution_count": 6,
   "id": "blind-conservative",
   "metadata": {},
   "outputs": [],
   "source": [
    "root = tk.Tk()\n",
    "root.title(\"Heart\")\n",
    "root.configure(bg=\"black\")\n",
    "\n",
    "x = \" S*****\"\n",
    "heart_pattern = '\\n'.join(\n",
    "    ''.join(\n",
    "        x[(i - j) % len(x)] if ((i * 0.05)**2 + (j * 0.1)**2 - 1)**3 - (i * 0.05)**2 * (j * 0.1)**3 <= 0 else ' '\n",
    "        for i in range(-30, 30)\n",
    "    )\n",
    "    for j in range(15, -15, -1)\n",
    ")\n",
    "\n",
    "tk.Label(root, text=heart_pattern, font=('Courier', 10), fg='white', bg='black', justify='left').pack(padx=10, pady=10)\n",
    "\n",
    "root.mainloop()"
   ]
  },
  {
   "cell_type": "code",
   "execution_count": 7,
   "id": "bound-notification",
   "metadata": {},
   "outputs": [],
   "source": [
    "root = tk.Tk()\n",
    "root.title(\"Broken Heart\")\n",
    "root.configure(bg=\"black\")\n",
    "\n",
    "# Define the string to use for the heart pattern\n",
    "x = \" S*****\"\n",
    "\n",
    "# Generate the broken heart pattern\n",
    "heart_pattern = '\\n'.join(\n",
    "    ''.join(\n",
    "        # Add a gap in the middle to create a \"broken heart\" effect\n",
    "        x[(i - j) % len(x)] if abs(i) > 3 and ((i * 0.05)**2 + (j * 0.1)**2 - 1)**3 - (i * 0.05)**2 * (j * 0.1)**3 <= 0 else ' '\n",
    "        for i in range(-30, 30)\n",
    "    )\n",
    "    for j in range(15, -15, -1)\n",
    ")\n",
    "\n",
    "# Create a label to display the pattern\n",
    "tk.Label(root, text=heart_pattern, font=('Courier', 10), fg='white', bg='black', justify='left').pack(padx=10, pady=10)\n",
    "\n",
    "# Start the Tkinter main loop\n",
    "root.mainloop()"
   ]
  },
  {
   "cell_type": "code",
   "execution_count": 10,
   "id": "relative-hanging",
   "metadata": {},
   "outputs": [],
   "source": [
    "root = tk.Tk()\n",
    "root.title(\"Broken Heart with Zigzag\")\n",
    "root.configure(bg=\"black\")\n",
    "\n",
    "# Define the string to use for the heart pattern\n",
    "x = \" S*****\"\n",
    "\n",
    "# Generate the broken heart pattern with a zigzag break\n",
    "heart_pattern = '\\n'.join(\n",
    "    ''.join(\n",
    "        # Add a zigzag gap in the middle\n",
    "        x[(i - j) % len(x)] if abs(i + 5 * math.sin(j * 0.5)) > 3 and ((i * 0.05)**2 + (j * 0.1)**2 - 1)**3 - (i * 0.05)**2 * (j * 0.1)**3 <= 0 else ' '\n",
    "        for i in range(-30, 30)\n",
    "    )\n",
    "    for j in range(15, -15, -1)\n",
    ")\n",
    "\n",
    "# Create a label to display the pattern\n",
    "tk.Label(root, text=heart_pattern, font=('Courier', 10), fg='white', bg='black', justify='left').pack(padx=10, pady=10)\n",
    "\n",
    "# Start the Tkinter main loop\n",
    "root.mainloop()"
   ]
  },
  {
   "cell_type": "code",
   "execution_count": 11,
   "id": "vocational-exhaust",
   "metadata": {},
   "outputs": [],
   "source": [
    "root = tk.Tk()\n",
    "root.title(\"Broken Heart with Chains\")\n",
    "root.configure(bg=\"black\")\n",
    "\n",
    "# Define the string to use for the heart pattern\n",
    "x = \" S*****\"\n",
    "chain = \"#\"\n",
    "\n",
    "# Generate the broken heart pattern with chains\n",
    "heart_pattern = '\\n'.join(\n",
    "    ''.join(\n",
    "        # Create the heart shape and the partial break\n",
    "        (chain if (i + j) % 7 == 0 else x[(i - j) % len(x)])\n",
    "        if abs(i + 5 * math.sin(j * 0.5)) > 3 and ((i * 0.05)**2 + (j * 0.1)**2 - 1)**3 - (i * 0.05)**2 * (j * 0.1)**3 <= 0 \n",
    "        else ' '\n",
    "        for i in range(-30, 30)\n",
    "    )\n",
    "    for j in range(15, -15, -1)\n",
    ")\n",
    "\n",
    "# Create a label to display the pattern\n",
    "tk.Label(root, text=heart_pattern, font=('Courier', 10), fg='white', bg='black', justify='left').pack(padx=10, pady=10)\n",
    "\n",
    "# Start the Tkinter main loop\n",
    "root.mainloop()"
   ]
  },
  {
   "cell_type": "code",
   "execution_count": 14,
   "id": "tested-greenhouse",
   "metadata": {},
   "outputs": [],
   "source": [
    "root = tk.Tk()\n",
    "root.title(\"Lonely Broken Heart\")\n",
    "root.configure(bg=\"black\")\n",
    "\n",
    "# Define the heart pattern string\n",
    "x = \" Feel\"\n",
    "\n",
    "# Generate the lonely broken heart pattern\n",
    "heart_pattern = '\\n'.join(\n",
    "    ''.join(\n",
    "        # Create a crack in the middle\n",
    "        x[(i - j) % len(x)] if (j > 5 or abs(i + 5 * math.sin(j * 0.5)) > 3) and ((i * 0.05)**2 + (j * 0.1)**2 - 1)**3 - (i * 0.05)**2 * (j * 0.1)**3 <= 0 else ' '\n",
    "        for i in range(-30, 30)\n",
    "    )\n",
    "    for j in range(15, -15, -1)\n",
    ")\n",
    "\n",
    "# Add empty lines above the heart for isolation effect\n",
    "heart_pattern = '\\n' * 10 + heart_pattern\n",
    "\n",
    "# Display the heart in the Tkinter window\n",
    "tk.Label(root, text=heart_pattern, font=('Courier', 10), fg='red', bg='black', justify='left').pack(padx=10, pady=10)\n",
    "\n",
    "# Start the Tkinter main loop\n",
    "root.mainloop()"
   ]
  },
  {
   "cell_type": "code",
   "execution_count": null,
   "id": "colored-transaction",
   "metadata": {},
   "outputs": [],
   "source": []
  }
 ],
 "metadata": {
  "kernelspec": {
   "display_name": "Python 3",
   "language": "python",
   "name": "python3"
  },
  "language_info": {
   "codemirror_mode": {
    "name": "ipython",
    "version": 3
   },
   "file_extension": ".py",
   "mimetype": "text/x-python",
   "name": "python",
   "nbconvert_exporter": "python",
   "pygments_lexer": "ipython3",
   "version": "3.7.9"
  }
 },
 "nbformat": 4,
 "nbformat_minor": 5
}
