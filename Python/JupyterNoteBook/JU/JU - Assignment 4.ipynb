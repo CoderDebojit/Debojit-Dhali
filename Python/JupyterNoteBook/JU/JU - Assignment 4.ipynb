{
 "cells": [
  {
   "cell_type": "markdown",
   "id": "associate-oracle",
   "metadata": {},
   "source": [
    "## Write Python code to implement ID3 algorithm and test it on the PlayTennis dataset and verify inductive bias of decision tree learning algorithm."
   ]
  },
  {
   "cell_type": "code",
   "execution_count": 1,
   "id": "passing-earthquake",
   "metadata": {},
   "outputs": [
    {
     "name": "stderr",
     "output_type": "stream",
     "text": [
      "D:\\Programming_software_Install\\Anaconda\\envs\\Deeplearning\\lib\\site-packages\\numpy\\_distributor_init.py:32: UserWarning: loaded more than 1 DLL from .libs:\n",
      "D:\\Programming_software_Install\\Anaconda\\envs\\Deeplearning\\lib\\site-packages\\numpy\\.libs\\libopenblas.WCDJNK7YVMPZQ2ME2ZZHJJRJ3JIKNDB7.gfortran-win_amd64.dll\n",
      "D:\\Programming_software_Install\\Anaconda\\envs\\Deeplearning\\lib\\site-packages\\numpy\\.libs\\libopenblas.XWYDX2IKJW2NMTWSFYNGFUWKQU3LYTCZ.gfortran-win_amd64.dll\n",
      "  stacklevel=1)\n"
     ]
    }
   ],
   "source": [
    "import pandas as pd\n",
    "import numpy as np"
   ]
  },
  {
   "cell_type": "markdown",
   "id": "pediatric-debut",
   "metadata": {},
   "source": [
    "## Using Custom code"
   ]
  },
  {
   "cell_type": "code",
   "execution_count": 2,
   "id": "pregnant-webcam",
   "metadata": {},
   "outputs": [
    {
     "data": {
      "text/html": [
       "<div>\n",
       "<style scoped>\n",
       "    .dataframe tbody tr th:only-of-type {\n",
       "        vertical-align: middle;\n",
       "    }\n",
       "\n",
       "    .dataframe tbody tr th {\n",
       "        vertical-align: top;\n",
       "    }\n",
       "\n",
       "    .dataframe thead th {\n",
       "        text-align: right;\n",
       "    }\n",
       "</style>\n",
       "<table border=\"1\" class=\"dataframe\">\n",
       "  <thead>\n",
       "    <tr style=\"text-align: right;\">\n",
       "      <th></th>\n",
       "      <th>outlook</th>\n",
       "      <th>temp</th>\n",
       "      <th>humidity</th>\n",
       "      <th>windy</th>\n",
       "      <th>play</th>\n",
       "    </tr>\n",
       "  </thead>\n",
       "  <tbody>\n",
       "    <tr>\n",
       "      <th>0</th>\n",
       "      <td>sunny</td>\n",
       "      <td>hot</td>\n",
       "      <td>high</td>\n",
       "      <td>False</td>\n",
       "      <td>no</td>\n",
       "    </tr>\n",
       "    <tr>\n",
       "      <th>1</th>\n",
       "      <td>sunny</td>\n",
       "      <td>hot</td>\n",
       "      <td>high</td>\n",
       "      <td>True</td>\n",
       "      <td>no</td>\n",
       "    </tr>\n",
       "    <tr>\n",
       "      <th>2</th>\n",
       "      <td>overcast</td>\n",
       "      <td>hot</td>\n",
       "      <td>high</td>\n",
       "      <td>False</td>\n",
       "      <td>yes</td>\n",
       "    </tr>\n",
       "    <tr>\n",
       "      <th>3</th>\n",
       "      <td>rainy</td>\n",
       "      <td>mild</td>\n",
       "      <td>high</td>\n",
       "      <td>False</td>\n",
       "      <td>yes</td>\n",
       "    </tr>\n",
       "    <tr>\n",
       "      <th>4</th>\n",
       "      <td>rainy</td>\n",
       "      <td>cool</td>\n",
       "      <td>normal</td>\n",
       "      <td>False</td>\n",
       "      <td>yes</td>\n",
       "    </tr>\n",
       "    <tr>\n",
       "      <th>5</th>\n",
       "      <td>rainy</td>\n",
       "      <td>cool</td>\n",
       "      <td>normal</td>\n",
       "      <td>True</td>\n",
       "      <td>no</td>\n",
       "    </tr>\n",
       "    <tr>\n",
       "      <th>6</th>\n",
       "      <td>overcast</td>\n",
       "      <td>cool</td>\n",
       "      <td>normal</td>\n",
       "      <td>True</td>\n",
       "      <td>yes</td>\n",
       "    </tr>\n",
       "    <tr>\n",
       "      <th>7</th>\n",
       "      <td>sunny</td>\n",
       "      <td>mild</td>\n",
       "      <td>high</td>\n",
       "      <td>False</td>\n",
       "      <td>no</td>\n",
       "    </tr>\n",
       "    <tr>\n",
       "      <th>8</th>\n",
       "      <td>sunny</td>\n",
       "      <td>cool</td>\n",
       "      <td>normal</td>\n",
       "      <td>False</td>\n",
       "      <td>yes</td>\n",
       "    </tr>\n",
       "    <tr>\n",
       "      <th>9</th>\n",
       "      <td>rainy</td>\n",
       "      <td>mild</td>\n",
       "      <td>normal</td>\n",
       "      <td>False</td>\n",
       "      <td>yes</td>\n",
       "    </tr>\n",
       "    <tr>\n",
       "      <th>10</th>\n",
       "      <td>sunny</td>\n",
       "      <td>mild</td>\n",
       "      <td>normal</td>\n",
       "      <td>True</td>\n",
       "      <td>yes</td>\n",
       "    </tr>\n",
       "    <tr>\n",
       "      <th>11</th>\n",
       "      <td>overcast</td>\n",
       "      <td>mild</td>\n",
       "      <td>high</td>\n",
       "      <td>True</td>\n",
       "      <td>yes</td>\n",
       "    </tr>\n",
       "    <tr>\n",
       "      <th>12</th>\n",
       "      <td>overcast</td>\n",
       "      <td>hot</td>\n",
       "      <td>normal</td>\n",
       "      <td>False</td>\n",
       "      <td>yes</td>\n",
       "    </tr>\n",
       "    <tr>\n",
       "      <th>13</th>\n",
       "      <td>rainy</td>\n",
       "      <td>mild</td>\n",
       "      <td>high</td>\n",
       "      <td>True</td>\n",
       "      <td>no</td>\n",
       "    </tr>\n",
       "  </tbody>\n",
       "</table>\n",
       "</div>"
      ],
      "text/plain": [
       "     outlook  temp humidity  windy play\n",
       "0      sunny   hot     high  False   no\n",
       "1      sunny   hot     high   True   no\n",
       "2   overcast   hot     high  False  yes\n",
       "3      rainy  mild     high  False  yes\n",
       "4      rainy  cool   normal  False  yes\n",
       "5      rainy  cool   normal   True   no\n",
       "6   overcast  cool   normal   True  yes\n",
       "7      sunny  mild     high  False   no\n",
       "8      sunny  cool   normal  False  yes\n",
       "9      rainy  mild   normal  False  yes\n",
       "10     sunny  mild   normal   True  yes\n",
       "11  overcast  mild     high   True  yes\n",
       "12  overcast   hot   normal  False  yes\n",
       "13     rainy  mild     high   True   no"
      ]
     },
     "execution_count": 2,
     "metadata": {},
     "output_type": "execute_result"
    }
   ],
   "source": [
    "# Define the dataset\n",
    "df = pd.read_csv('../Datasets/PlayTennis.csv')\n",
    "df"
   ]
  },
  {
   "cell_type": "markdown",
   "id": "formed-canyon",
   "metadata": {},
   "source": [
    "## Requried functions for ID3 model"
   ]
  },
  {
   "cell_type": "code",
   "execution_count": 5,
   "id": "continued-strip",
   "metadata": {},
   "outputs": [],
   "source": [
    "# Step 1: Calculate Entropy\n",
    "def calculate_entropy(data):\n",
    "    label_counts = Counter(data)\n",
    "    total = len(data)\n",
    "    entropy = 0.0\n",
    "    for count in label_counts.values():\n",
    "        prob = count / total\n",
    "        entropy -= prob * math.log2(prob)\n",
    "    return entropy\n",
    "\n",
    "# Step 2: Calculate Information Gain\n",
    "def calculate_information_gain(data, feature, target):\n",
    "    # Calculate the entropy of the target variable\n",
    "    target_entropy = calculate_entropy(data[target])\n",
    "    \n",
    "    # Split the data by feature values\n",
    "    feature_values = data[feature].unique()\n",
    "    weighted_entropy = 0.0\n",
    "    \n",
    "    for value in feature_values:\n",
    "        # Subset where the feature equals the current value\n",
    "        subset = data[data[feature] == value]\n",
    "        # Calculate the entropy for the subset\n",
    "        subset_entropy = calculate_entropy(subset[target])\n",
    "        # Weight the subset entropy by the fraction of total instances\n",
    "        weighted_entropy += (len(subset) / len(data)) * subset_entropy\n",
    "    \n",
    "    # Information Gain is the difference between the original entropy and weighted entropy\n",
    "    return target_entropy - weighted_entropy\n",
    "\n",
    "# Step 3: Select the best feature with the highest Information Gain\n",
    "def select_best_feature(data, features, target):\n",
    "    best_feature = None\n",
    "    best_gain = -float('inf')\n",
    "    \n",
    "    for feature in features:\n",
    "        gain = calculate_information_gain(data, feature, target)\n",
    "        if gain > best_gain:\n",
    "            best_gain = gain\n",
    "            best_feature = feature\n",
    "    \n",
    "    return best_feature\n",
    "\n",
    "# Step 4: Build the Decision Tree\n",
    "def id3(data, features, target):\n",
    "    # If all instances have the same label, return that label\n",
    "    if data[target].nunique() == 1:\n",
    "        return data[target].iloc[0]\n",
    "    \n",
    "    # If no features left to split on, return the most common label\n",
    "    if len(features) == 0:  # Use `len(features)` to check if the feature set is empty\n",
    "        return data[target].mode()[0]\n",
    "    \n",
    "    # Select the best feature\n",
    "    best_feature = select_best_feature(data, features, target)\n",
    "    \n",
    "    # Create a tree with the best feature as the root\n",
    "    tree = {best_feature: {}}\n",
    "    \n",
    "    # Remove the best feature from the list of features\n",
    "    remaining_features = [f for f in features if f != best_feature]\n",
    "    \n",
    "    # Recursively build the tree for each value of the best feature\n",
    "    feature_values = data[best_feature].unique()\n",
    "    for value in feature_values:\n",
    "        subset = data[data[best_feature] == value]\n",
    "        tree[best_feature][value] = id3(subset, remaining_features, target)\n",
    "    \n",
    "    return tree\n",
    "\n",
    "# Function to print the decision tree\n",
    "def print_tree(tree, indent=\"\"):\n",
    "    if isinstance(tree, dict):\n",
    "        for key, value in tree.items():\n",
    "            print(f\"{indent}{key}:\")\n",
    "            print_tree(value, indent + \"  \")\n",
    "    else:\n",
    "        print(f\"{indent}{tree}\")\n",
    "\n",
    "# Predict for new sample data        \n",
    "def predict(tree, sample):\n",
    "    # If the tree is a leaf node, return the class label\n",
    "    if not isinstance(tree, dict):\n",
    "        return tree\n",
    "    \n",
    "    # Iterate through the tree to find the next feature\n",
    "    for feature, branches in tree.items():\n",
    "        # Get the value of the feature for the sample\n",
    "        value = sample.get(feature)\n",
    "        if value in branches:\n",
    "            # Recursively call predict on the corresponding subtree\n",
    "            return predict(branches[value], sample)\n",
    "        else:\n",
    "            # If the feature value isn't in the tree, return a default (e.g., \"Unknown\")\n",
    "            return \"Unknown\""
   ]
  },
  {
   "cell_type": "markdown",
   "id": "threatened-exclusion",
   "metadata": {},
   "source": [
    "## Train the tree model with K-Fold cross validation"
   ]
  },
  {
   "cell_type": "code",
   "execution_count": 6,
   "id": "baking-sound",
   "metadata": {},
   "outputs": [],
   "source": [
    "from sklearn.model_selection import KFold\n",
    "from sklearn.metrics import accuracy_score\n",
    "import pandas as pd\n",
    "import math\n",
    "from collections import Counter\n",
    "\n",
    "# Applying k-Fold Cross-Validation\n",
    "kf = KFold(n_splits=5, shuffle=True, random_state=42)\n",
    "accuracies = []\n",
    "\n",
    "for train_index, test_index in kf.split(df):\n",
    "    # Split into training and testing sets\n",
    "    train_data = df.iloc[train_index]\n",
    "    test_data = df.iloc[test_index]\n",
    "    \n",
    "    # Extract features and target\n",
    "    features = df.columns[:-1]  # All columns except the target\n",
    "    target = 'play'\n",
    "    \n",
    "    # Train the ID3 decision tree\n",
    "    tree = id3(train_data, features, target)\n",
    "    \n",
    "    # Test the model on the testing set\n",
    "    y_true = []\n",
    "    y_pred = []\n",
    "    \n",
    "    for _, row in test_data.iterrows():\n",
    "        sample = row[features].to_dict()  # Convert row features to a dictionary\n",
    "        actual = row[target]             # Actual label\n",
    "        predicted = predict(tree, sample)  # Predicted label\n",
    "        \n",
    "        y_true.append(actual)\n",
    "        y_pred.append(predicted)\n",
    "    \n",
    "    # Calculate accuracy for the current fold\n",
    "    accuracy = accuracy_score(y_true, y_pred)\n",
    "    accuracies.append(accuracy)"
   ]
  },
  {
   "cell_type": "code",
   "execution_count": 10,
   "id": "amino-newcastle",
   "metadata": {},
   "outputs": [
    {
     "name": "stdout",
     "output_type": "stream",
     "text": [
      "outlook:\n",
      "  sunny:\n",
      "    humidity:\n",
      "      high:\n",
      "        no\n",
      "      normal:\n",
      "        yes\n",
      "  overcast:\n",
      "    yes\n",
      "  rainy:\n",
      "    windy:\n",
      "      False:\n",
      "        yes\n",
      "      True:\n",
      "        no\n",
      "None\n",
      "Cross-Validated Accuracy: 0.87\n"
     ]
    }
   ],
   "source": [
    "print(print_tree(tree))\n",
    "# Print the average accuracy across all folds\n",
    "print(f\"Cross-Validated Accuracy: {sum(accuracies) / len(accuracies):.2f}\")"
   ]
  },
  {
   "cell_type": "markdown",
   "id": "located-invention",
   "metadata": {},
   "source": [
    "## Custom model - visualization"
   ]
  },
  {
   "cell_type": "code",
   "execution_count": 1,
   "id": "incorrect-metropolitan",
   "metadata": {
    "scrolled": false
   },
   "outputs": [
    {
     "name": "stderr",
     "output_type": "stream",
     "text": [
      "D:\\Programming_software_Install\\Anaconda\\envs\\Deeplearning\\lib\\site-packages\\numpy\\_distributor_init.py:32: UserWarning: loaded more than 1 DLL from .libs:\n",
      "D:\\Programming_software_Install\\Anaconda\\envs\\Deeplearning\\lib\\site-packages\\numpy\\.libs\\libopenblas.WCDJNK7YVMPZQ2ME2ZZHJJRJ3JIKNDB7.gfortran-win_amd64.dll\n",
      "D:\\Programming_software_Install\\Anaconda\\envs\\Deeplearning\\lib\\site-packages\\numpy\\.libs\\libopenblas.XWYDX2IKJW2NMTWSFYNGFUWKQU3LYTCZ.gfortran-win_amd64.dll\n",
      "  stacklevel=1)\n"
     ]
    },
    {
     "ename": "NameError",
     "evalue": "name 'tree' is not defined",
     "output_type": "error",
     "traceback": [
      "\u001b[1;31m---------------------------------------------------------------------------\u001b[0m",
      "\u001b[1;31mNameError\u001b[0m                                 Traceback (most recent call last)",
      "\u001b[1;32m<ipython-input-1-170e478bfd84>\u001b[0m in \u001b[0;36m<module>\u001b[1;34m\u001b[0m\n\u001b[0;32m     32\u001b[0m \u001b[1;31m# Start drawing from the root\u001b[0m\u001b[1;33m\u001b[0m\u001b[1;33m\u001b[0m\u001b[1;33m\u001b[0m\u001b[0m\n\u001b[0;32m     33\u001b[0m \u001b[0mdot\u001b[0m\u001b[1;33m.\u001b[0m\u001b[0mnode\u001b[0m\u001b[1;33m(\u001b[0m\u001b[1;34m'root'\u001b[0m\u001b[1;33m,\u001b[0m \u001b[1;34m'Root'\u001b[0m\u001b[1;33m)\u001b[0m\u001b[1;33m\u001b[0m\u001b[1;33m\u001b[0m\u001b[0m\n\u001b[1;32m---> 34\u001b[1;33m \u001b[0mdraw_tree\u001b[0m\u001b[1;33m(\u001b[0m\u001b[0mtree\u001b[0m\u001b[1;33m,\u001b[0m \u001b[1;34m'root'\u001b[0m\u001b[1;33m,\u001b[0m \u001b[0mdot\u001b[0m\u001b[1;33m)\u001b[0m\u001b[1;33m\u001b[0m\u001b[1;33m\u001b[0m\u001b[0m\n\u001b[0m\u001b[0;32m     35\u001b[0m \u001b[1;33m\u001b[0m\u001b[0m\n\u001b[0;32m     36\u001b[0m \u001b[1;31m# Render the tree to a temporary file\u001b[0m\u001b[1;33m\u001b[0m\u001b[1;33m\u001b[0m\u001b[1;33m\u001b[0m\u001b[0m\n",
      "\u001b[1;31mNameError\u001b[0m: name 'tree' is not defined"
     ]
    }
   ],
   "source": [
    "from graphviz import Digraph\n",
    "import matplotlib.pyplot as plt\n",
    "import matplotlib.image as mpimg\n",
    "\n",
    "# Function to visualize the tree using Graphviz\n",
    "def draw_tree(tree, parent_name, graph):\n",
    "    if isinstance(tree, dict):\n",
    "        for feature, sub_tree in tree.items():\n",
    "            # Create a node for this feature\n",
    "            node_name = str(hash(feature))\n",
    "            graph.node(node_name, feature)\n",
    "            graph.edge(parent_name, node_name)\n",
    "            \n",
    "            # Recursively process the sub-trees\n",
    "            for value, sub_sub_tree in sub_tree.items():\n",
    "                value_name = str(hash(value))\n",
    "                graph.node(value_name, f\"{feature}={value}\")\n",
    "                graph.edge(node_name, value_name)\n",
    "                draw_tree(sub_sub_tree, value_name, graph)\n",
    "    else:\n",
    "        # Leaf node (class label)\n",
    "        leaf_name = str(hash(tree))\n",
    "        graph.node(leaf_name, str(tree), shape=\"box\")\n",
    "        graph.edge(parent_name, leaf_name)\n",
    "\n",
    "# Initialize the graph\n",
    "dot = Digraph(comment='Decision Tree')\n",
    "\n",
    "# Set the size of the tree (width and height)\n",
    "dot.attr(dpi='300', size='10,10')  # Adjust the size here\n",
    "\n",
    "# Start drawing from the root\n",
    "dot.node('root', 'Root')\n",
    "draw_tree(tree, 'root', dot)\n",
    "\n",
    "# Render the tree to a temporary file\n",
    "dot.format = 'png'\n",
    "dot.render('/tmp/decision_tree')  # Temporary file on disk\n",
    "\n",
    "# Use matplotlib to display the saved image with specific size\n",
    "img = mpimg.imread('/tmp/decision_tree.png')\n",
    "plt.figure(figsize=(12, 12))  # Adjust this figure size as needed\n",
    "plt.imshow(img)\n",
    "plt.axis('off')  # Turn off axis labels\n",
    "plt.show()"
   ]
  },
  {
   "cell_type": "markdown",
   "id": "alive-soccer",
   "metadata": {},
   "source": [
    "## Test the the Decision tree model with new data"
   ]
  },
  {
   "cell_type": "code",
   "execution_count": 17,
   "id": "rural-completion",
   "metadata": {},
   "outputs": [
    {
     "name": "stdout",
     "output_type": "stream",
     "text": [
      "Predicted Class: no\n"
     ]
    }
   ],
   "source": [
    "\n",
    "# Example test sample\n",
    "test_sample = {'outlook': 'sunny', 'temperature': 'hot', 'humidity': 'high', 'wind': 'weak'}\n",
    "\n",
    "# Predict the class label\n",
    "prediction = predict(tree, test_sample)\n",
    "print(f\"Predicted Class: {prediction}\")"
   ]
  },
  {
   "cell_type": "code",
   "execution_count": null,
   "id": "missing-booking",
   "metadata": {},
   "outputs": [],
   "source": []
  },
  {
   "cell_type": "markdown",
   "id": "accredited-charter",
   "metadata": {},
   "source": [
    "## Using sklearn"
   ]
  },
  {
   "cell_type": "code",
   "execution_count": 27,
   "id": "effective-valuation",
   "metadata": {},
   "outputs": [
    {
     "name": "stdout",
     "output_type": "stream",
     "text": [
      "Using sklearn - Cross-Validated Accuracy (Method 1): 0.87\n",
      "Using sklearn - Cross-Validated Accuracy (Method 2): 0.70\n"
     ]
    }
   ],
   "source": [
    "from sklearn.tree import DecisionTreeClassifier\n",
    "from sklearn.model_selection import cross_val_score, KFold\n",
    "from sklearn.metrics import accuracy_score\n",
    "from sklearn.preprocessing import LabelEncoder\n",
    "import pandas as pd\n",
    "\n",
    "df = pd.read_csv('../Datasets/PlayTennis.csv')\n",
    "\n",
    "# Encode categorical data\n",
    "le = LabelEncoder()\n",
    "for column in df.columns:\n",
    "    if df[column].dtype == 'object':  # Encode only object-type columns\n",
    "        df[column] = le.fit_transform(df[column])\n",
    "\n",
    "# Split features and target\n",
    "X = df.drop(columns=\"play\")  # Features\n",
    "y = df[\"play\"]               # Target\n",
    "\n",
    "# Initialize the Decision Tree Classifier\n",
    "clf = DecisionTreeClassifier(criterion='entropy', random_state=42)\n",
    "\n",
    "# Method 1: Using cross_val_score\n",
    "scores = cross_val_score(clf, X, y, cv=3, scoring='accuracy')\n",
    "print(f\"Using sklearn - Cross-Validated Accuracy (Method 1): {scores.mean():.2f}\")\n",
    "\n",
    "# Method 2: Using KFold for manual splitting\n",
    "kf = KFold(n_splits=5, shuffle=True, random_state=42)\n",
    "accuracies = []\n",
    "\n",
    "for train_index, test_index in kf.split(X):\n",
    "    # Split the data\n",
    "    X_train, X_test = X.iloc[train_index], X.iloc[test_index]\n",
    "    y_train, y_test = y.iloc[train_index], y.iloc[test_index]\n",
    "    \n",
    "    # Train the classifier\n",
    "    clf.fit(X_train, y_train)\n",
    "    \n",
    "    # Predict on the test set\n",
    "    y_pred = clf.predict(X_test)\n",
    "    \n",
    "    # Calculate accuracy\n",
    "    accuracies.append(accuracy_score(y_test, y_pred))\n",
    "\n",
    "print(f\"Using sklearn - Cross-Validated Accuracy (Method 2): {sum(accuracies) / len(accuracies):.2f}\")\n"
   ]
  },
  {
   "cell_type": "code",
   "execution_count": 28,
   "id": "bound-electric",
   "metadata": {},
   "outputs": [
    {
     "data": {
      "image/png": "[encoded data removed]",
      "text/plain": [
       "<Figure size 864x576 with 1 Axes>"
      ]
     },
     "metadata": {
      "needs_background": "light"
     },
     "output_type": "display_data"
    }
   ],
   "source": [
    "from sklearn.tree import plot_tree\n",
    "import matplotlib.pyplot as plt\n",
    "\n",
    "# Ensure feature names and class names are in string format\n",
    "features_str = [str(f) for f in X.columns]\n",
    "class_names_str = [str(cls) for cls in clf.classes_]\n",
    "\n",
    "# Plot the decision tree\n",
    "plt.figure(figsize=(12, 8))  # Adjust figure size as needed\n",
    "plot_tree(clf, feature_names=features_str, class_names=class_names_str, filled=True)\n",
    "plt.show()\n"
   ]
  },
  {
   "cell_type": "code",
   "execution_count": null,
   "id": "broke-douglas",
   "metadata": {},
   "outputs": [],
   "source": []
  },
  {
   "cell_type": "code",
   "execution_count": null,
   "id": "animal-bradley",
   "metadata": {},
   "outputs": [],
   "source": []
  },
  {
   "cell_type": "code",
   "execution_count": null,
   "id": "enabling-pitch",
   "metadata": {},
   "outputs": [],
   "source": []
  }
 ],
 "metadata": {
  "kernelspec": {
   "display_name": "Python 3",
   "language": "python",
   "name": "python3"
  },
  "language_info": {
   "codemirror_mode": {
    "name": "ipython",
    "version": 3
   },
   "file_extension": ".py",
   "mimetype": "text/x-python",
   "name": "python",
   "nbconvert_exporter": "python",
   "pygments_lexer": "ipython3",
   "version": "3.7.9"
  }
 },
 "nbformat": 4,
 "nbformat_minor": 5
}
