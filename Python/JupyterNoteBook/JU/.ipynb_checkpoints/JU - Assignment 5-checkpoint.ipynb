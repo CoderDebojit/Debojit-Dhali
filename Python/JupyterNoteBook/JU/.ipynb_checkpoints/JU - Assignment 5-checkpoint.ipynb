{
 "cells": [
  {
   "cell_type": "markdown",
   "id": "wound-yield",
   "metadata": {},
   "source": [
    "# Implement KNN, Naïve Bayes, and SVM classifiers using Python-based ML tools for comparison their performance on the review sentiment classification dataset. A bag-of-words model and TFIDF should be used for input text representation. For each model, the necessary hyperparameters need to be properly tuned using the validation set.\n",
    "#### Perform hypothesis testing to prove whether the difference in performance of three models developed in experiment 4 is statistically significant or not. Report confidence intervals and rho values."
   ]
  },
  {
   "cell_type": "code",
   "execution_count": 1,
   "id": "internal-olympus",
   "metadata": {},
   "outputs": [
    {
     "name": "stderr",
     "output_type": "stream",
     "text": [
      "D:\\Programming_software_Install\\Anaconda\\envs\\Deeplearning\\lib\\site-packages\\numpy\\_distributor_init.py:32: UserWarning: loaded more than 1 DLL from .libs:\n",
      "D:\\Programming_software_Install\\Anaconda\\envs\\Deeplearning\\lib\\site-packages\\numpy\\.libs\\libopenblas.WCDJNK7YVMPZQ2ME2ZZHJJRJ3JIKNDB7.gfortran-win_amd64.dll\n",
      "D:\\Programming_software_Install\\Anaconda\\envs\\Deeplearning\\lib\\site-packages\\numpy\\.libs\\libopenblas.XWYDX2IKJW2NMTWSFYNGFUWKQU3LYTCZ.gfortran-win_amd64.dll\n",
      "  stacklevel=1)\n"
     ]
    }
   ],
   "source": [
    "from sklearn.datasets import fetch_20newsgroups\n",
    "from sklearn.model_selection import train_test_split\n",
    "from sklearn.feature_extraction.text import CountVectorizer, TfidfVectorizer\n",
    "from sklearn.preprocessing import LabelEncoder\n",
    "\n",
    "# Load a simpler text dataset (20 Newsgroups dataset as an example)\n",
    "data = fetch_20newsgroups(subset='all', categories=['rec.sport.hockey', 'sci.space'], remove=('headers', 'footers', 'quotes'))\n",
    "\n",
    "# Split into training and test sets\n",
    "X_train, X_test, y_train, y_test = train_test_split(data.data, data.target, test_size=0.3, random_state=42)\n",
    "\n",
    "# Encode labels (if not numeric)\n",
    "le = LabelEncoder()\n",
    "y_train = le.fit_transform(y_train)\n",
    "y_test = le.transform(y_test)\n"
   ]
  },
  {
   "cell_type": "markdown",
   "id": "applied-newport",
   "metadata": {},
   "source": [
    "## Text Representation"
   ]
  },
  {
   "cell_type": "code",
   "execution_count": 2,
   "id": "numerous-industry",
   "metadata": {},
   "outputs": [],
   "source": [
    "# BoW representation\n",
    "bow_vectorizer = CountVectorizer(max_features=3000, stop_words='english')\n",
    "X_train_bow = bow_vectorizer.fit_transform(X_train)\n",
    "X_test_bow = bow_vectorizer.transform(X_test)\n",
    "\n",
    "# TF-IDF representation\n",
    "tfidf_vectorizer = TfidfVectorizer(max_features=3000, stop_words='english')\n",
    "X_train_tfidf = tfidf_vectorizer.fit_transform(X_train)\n",
    "X_test_tfidf = tfidf_vectorizer.transform(X_test)\n"
   ]
  },
  {
   "cell_type": "markdown",
   "id": "iraqi-vertical",
   "metadata": {},
   "source": [
    "## Implement Models"
   ]
  },
  {
   "cell_type": "code",
   "execution_count": 3,
   "id": "satellite-chase",
   "metadata": {},
   "outputs": [
    {
     "data": {
      "text/plain": [
       "SVC(kernel='linear', probability=True)"
      ]
     },
     "execution_count": 3,
     "metadata": {},
     "output_type": "execute_result"
    }
   ],
   "source": [
    "from sklearn.neighbors import KNeighborsClassifier\n",
    "from sklearn.naive_bayes import MultinomialNB\n",
    "from sklearn.svm import SVC\n",
    "\n",
    "# KNN\n",
    "knn = KNeighborsClassifier(n_neighbors=5)\n",
    "knn.fit(X_train_bow, y_train)\n",
    "\n",
    "# Naïve Bayes\n",
    "nb = MultinomialNB(alpha=1.0)\n",
    "nb.fit(X_train_bow, y_train)\n",
    "\n",
    "# SVM\n",
    "svm = SVC(C=1.0, kernel='linear', probability=True)\n",
    "svm.fit(X_train_bow, y_train)\n"
   ]
  },
  {
   "cell_type": "code",
   "execution_count": 13,
   "id": "ideal-sunset",
   "metadata": {},
   "outputs": [
    {
     "data": {
      "text/plain": [
       "SVC(kernel='linear', probability=True)"
      ]
     },
     "execution_count": 13,
     "metadata": {},
     "output_type": "execute_result"
    }
   ],
   "source": [
    "# KNN\n",
    "knn_tfidf = KNeighborsClassifier(n_neighbors=5)\n",
    "knn_tfidf.fit(X_train_tfidf, y_train)\n",
    "\n",
    "# Naïve Bayes\n",
    "nb_tfidf = MultinomialNB(alpha=1.0)\n",
    "nb_tfidf.fit(X_train_tfidf, y_train)\n",
    "\n",
    "# SVM\n",
    "svm_tfidf = SVC(C=1.0, kernel='linear', probability=True)\n",
    "svm_tfidf.fit(X_train_tfidf, y_train)\n"
   ]
  },
  {
   "cell_type": "markdown",
   "id": "moderate-workstation",
   "metadata": {},
   "source": [
    "## Evaluate Models"
   ]
  },
  {
   "cell_type": "code",
   "execution_count": 6,
   "id": "surface-while",
   "metadata": {
    "collapsed": true
   },
   "outputs": [
    {
     "name": "stdout",
     "output_type": "stream",
     "text": [
      "KNN Accuracy (BoW): 0.7114\n",
      "KNN Confusion Matrix:\n",
      "[[190 110]\n",
      " [ 62 234]]\n",
      "\n",
      "KNN Classification Report:\n",
      "              precision    recall  f1-score   support\n",
      "\n",
      "           0       0.75      0.63      0.69       300\n",
      "           1       0.68      0.79      0.73       296\n",
      "\n",
      "    accuracy                           0.71       596\n",
      "   macro avg       0.72      0.71      0.71       596\n",
      "weighted avg       0.72      0.71      0.71       596\n",
      "\n",
      "\n"
     ]
    },
    {
     "name": "stderr",
     "output_type": "stream",
     "text": [
      "D:\\Programming_software_Install\\Anaconda\\envs\\Deeplearning\\lib\\site-packages\\sklearn\\utils\\deprecation.py:87: FutureWarning: Function plot_confusion_matrix is deprecated; Function `plot_confusion_matrix` is deprecated in 1.0 and will be removed in 1.2. Use one of the class methods: ConfusionMatrixDisplay.from_predictions or ConfusionMatrixDisplay.from_estimator.\n",
      "  warnings.warn(msg, category=FutureWarning)\n"
     ]
    },
    {
     "data": {
      "text/plain": [
       "<Figure size 432x288 with 0 Axes>"
      ]
     },
     "metadata": {},
     "output_type": "display_data"
    },
    {
     "data": {
      "image/png": "[encoded data removed]",
      "text/plain": [
       "<Figure size 432x288 with 2 Axes>"
      ]
     },
     "metadata": {
      "needs_background": "light"
     },
     "output_type": "display_data"
    },
    {
     "name": "stdout",
     "output_type": "stream",
     "text": [
      "Naïve Bayes Accuracy (BoW): 0.9547\n",
      "Naïve Bayes Confusion Matrix:\n",
      "[[285  15]\n",
      " [ 12 284]]\n",
      "\n",
      "Naïve Bayes Classification Report:\n",
      "              precision    recall  f1-score   support\n",
      "\n",
      "           0       0.96      0.95      0.95       300\n",
      "           1       0.95      0.96      0.95       296\n",
      "\n",
      "    accuracy                           0.95       596\n",
      "   macro avg       0.95      0.95      0.95       596\n",
      "weighted avg       0.95      0.95      0.95       596\n",
      "\n",
      "\n"
     ]
    },
    {
     "name": "stderr",
     "output_type": "stream",
     "text": [
      "D:\\Programming_software_Install\\Anaconda\\envs\\Deeplearning\\lib\\site-packages\\sklearn\\utils\\deprecation.py:87: FutureWarning: Function plot_confusion_matrix is deprecated; Function `plot_confusion_matrix` is deprecated in 1.0 and will be removed in 1.2. Use one of the class methods: ConfusionMatrixDisplay.from_predictions or ConfusionMatrixDisplay.from_estimator.\n",
      "  warnings.warn(msg, category=FutureWarning)\n"
     ]
    },
    {
     "data": {
      "text/plain": [
       "<Figure size 432x288 with 0 Axes>"
      ]
     },
     "metadata": {},
     "output_type": "display_data"
    },
    {
     "data": {
      "image/png": "[encoded data removed]",
      "text/plain": [
       "<Figure size 432x288 with 2 Axes>"
      ]
     },
     "metadata": {
      "needs_background": "light"
     },
     "output_type": "display_data"
    },
    {
     "name": "stdout",
     "output_type": "stream",
     "text": [
      "SVM Accuracy (BoW): 0.9128\n",
      "SVM Confusion Matrix:\n",
      "[[265  35]\n",
      " [ 17 279]]\n",
      "\n",
      "SVM Classification Report:\n",
      "              precision    recall  f1-score   support\n",
      "\n",
      "           0       0.94      0.88      0.91       300\n",
      "           1       0.89      0.94      0.91       296\n",
      "\n",
      "    accuracy                           0.91       596\n",
      "   macro avg       0.91      0.91      0.91       596\n",
      "weighted avg       0.91      0.91      0.91       596\n",
      "\n",
      "\n"
     ]
    },
    {
     "name": "stderr",
     "output_type": "stream",
     "text": [
      "D:\\Programming_software_Install\\Anaconda\\envs\\Deeplearning\\lib\\site-packages\\sklearn\\utils\\deprecation.py:87: FutureWarning: Function plot_confusion_matrix is deprecated; Function `plot_confusion_matrix` is deprecated in 1.0 and will be removed in 1.2. Use one of the class methods: ConfusionMatrixDisplay.from_predictions or ConfusionMatrixDisplay.from_estimator.\n",
      "  warnings.warn(msg, category=FutureWarning)\n"
     ]
    },
    {
     "data": {
      "text/plain": [
       "<Figure size 432x288 with 0 Axes>"
      ]
     },
     "metadata": {},
     "output_type": "display_data"
    },
    {
     "data": {
      "image/png": "[encoded data removed]",
      "text/plain": [
       "<Figure size 432x288 with 2 Axes>"
      ]
     },
     "metadata": {
      "needs_background": "light"
     },
     "output_type": "display_data"
    }
   ],
   "source": [
    "from sklearn.metrics import accuracy_score\n",
    "from sklearn.metrics import confusion_matrix, classification_report, plot_confusion_matrix\n",
    "import matplotlib.pyplot as plt\n",
    "\n",
    "# Test each model and store results\n",
    "results = {}\n",
    "for name, model in zip([\"KNN\", \"Naïve Bayes\", \"SVM\", \"KNN\", \"Naïve Bayes\", \"SVM\"], [knn, nb, svm, knn_tfidf, nb_tfidf, svm_tfidf]):\n",
    "    y_pred = model.predict(X_test_bow)\n",
    "    acc = accuracy_score(y_test, y_pred)\n",
    "    results[name] = acc\n",
    "    print(f\"{name} Accuracy (BoW): {acc:.4f}\")\n",
    "    \n",
    "    # Confusion Matrix\n",
    "    cm = confusion_matrix(y_test, y_pred)\n",
    "    print(f\"{name} Confusion Matrix:\")\n",
    "    print(cm)\n",
    "    print()\n",
    "    \n",
    "    # Classification Report\n",
    "    cr = classification_report(y_test, y_pred)\n",
    "    print(f\"{name} Classification Report:\")\n",
    "    print(cr)\n",
    "    print()\n",
    "\n",
    "    # Plot Confusion Matrix\n",
    "    plt.figure(figsize=(6, 4))\n",
    "    plot_confusion_matrix(model, X_test_bow, y_test, cmap='Blues', display_labels=le.classes_)\n",
    "    plt.title(f\"Confusion Matrix for {name}\")\n",
    "    plt.show()\n"
   ]
  },
  {
   "cell_type": "code",
   "execution_count": 14,
   "id": "classical-framework",
   "metadata": {
    "scrolled": false
   },
   "outputs": [
    {
     "name": "stdout",
     "output_type": "stream",
     "text": [
      "KNN Accuracy (TF-IDF): 0.5906\n",
      "KNN Confusion Matrix:\n",
      "[[115 185]\n",
      " [ 59 237]]\n",
      "\n",
      "KNN Classification Report:\n",
      "              precision    recall  f1-score   support\n",
      "\n",
      "           0       0.66      0.38      0.49       300\n",
      "           1       0.56      0.80      0.66       296\n",
      "\n",
      "    accuracy                           0.59       596\n",
      "   macro avg       0.61      0.59      0.57       596\n",
      "weighted avg       0.61      0.59      0.57       596\n",
      "\n",
      "\n"
     ]
    },
    {
     "name": "stderr",
     "output_type": "stream",
     "text": [
      "D:\\Programming_software_Install\\Anaconda\\envs\\Deeplearning\\lib\\site-packages\\sklearn\\utils\\deprecation.py:87: FutureWarning: Function plot_confusion_matrix is deprecated; Function `plot_confusion_matrix` is deprecated in 1.0 and will be removed in 1.2. Use one of the class methods: ConfusionMatrixDisplay.from_predictions or ConfusionMatrixDisplay.from_estimator.\n",
      "  warnings.warn(msg, category=FutureWarning)\n"
     ]
    },
    {
     "data": {
      "text/plain": [
       "<Figure size 432x288 with 0 Axes>"
      ]
     },
     "metadata": {},
     "output_type": "display_data"
    },
    {
     "data": {
      "image/png": "[encoded data removed]",
      "text/plain": [
       "<Figure size 432x288 with 2 Axes>"
      ]
     },
     "metadata": {
      "needs_background": "light"
     },
     "output_type": "display_data"
    },
    {
     "name": "stdout",
     "output_type": "stream",
     "text": [
      "Naïve Bayes Accuracy (TF-IDF): 0.9564\n",
      "Naïve Bayes Confusion Matrix:\n",
      "[[290  10]\n",
      " [ 16 280]]\n",
      "\n",
      "Naïve Bayes Classification Report:\n",
      "              precision    recall  f1-score   support\n",
      "\n",
      "           0       0.95      0.97      0.96       300\n",
      "           1       0.97      0.95      0.96       296\n",
      "\n",
      "    accuracy                           0.96       596\n",
      "   macro avg       0.96      0.96      0.96       596\n",
      "weighted avg       0.96      0.96      0.96       596\n",
      "\n",
      "\n"
     ]
    },
    {
     "name": "stderr",
     "output_type": "stream",
     "text": [
      "D:\\Programming_software_Install\\Anaconda\\envs\\Deeplearning\\lib\\site-packages\\sklearn\\utils\\deprecation.py:87: FutureWarning: Function plot_confusion_matrix is deprecated; Function `plot_confusion_matrix` is deprecated in 1.0 and will be removed in 1.2. Use one of the class methods: ConfusionMatrixDisplay.from_predictions or ConfusionMatrixDisplay.from_estimator.\n",
      "  warnings.warn(msg, category=FutureWarning)\n"
     ]
    },
    {
     "data": {
      "text/plain": [
       "<Figure size 432x288 with 0 Axes>"
      ]
     },
     "metadata": {},
     "output_type": "display_data"
    },
    {
     "data": {
      "image/png": "[encoded data removed]",
      "text/plain": [
       "<Figure size 432x288 with 2 Axes>"
      ]
     },
     "metadata": {
      "needs_background": "light"
     },
     "output_type": "display_data"
    },
    {
     "name": "stdout",
     "output_type": "stream",
     "text": [
      "SVM Accuracy (TF-IDF): 0.9446\n",
      "SVM Confusion Matrix:\n",
      "[[273  27]\n",
      " [  6 290]]\n",
      "\n",
      "SVM Classification Report:\n",
      "              precision    recall  f1-score   support\n",
      "\n",
      "           0       0.98      0.91      0.94       300\n",
      "           1       0.91      0.98      0.95       296\n",
      "\n",
      "    accuracy                           0.94       596\n",
      "   macro avg       0.95      0.94      0.94       596\n",
      "weighted avg       0.95      0.94      0.94       596\n",
      "\n",
      "\n"
     ]
    },
    {
     "name": "stderr",
     "output_type": "stream",
     "text": [
      "D:\\Programming_software_Install\\Anaconda\\envs\\Deeplearning\\lib\\site-packages\\sklearn\\utils\\deprecation.py:87: FutureWarning: Function plot_confusion_matrix is deprecated; Function `plot_confusion_matrix` is deprecated in 1.0 and will be removed in 1.2. Use one of the class methods: ConfusionMatrixDisplay.from_predictions or ConfusionMatrixDisplay.from_estimator.\n",
      "  warnings.warn(msg, category=FutureWarning)\n"
     ]
    },
    {
     "data": {
      "text/plain": [
       "<Figure size 432x288 with 0 Axes>"
      ]
     },
     "metadata": {},
     "output_type": "display_data"
    },
    {
     "data": {
      "image/png": "[encoded data removed]",
      "text/plain": [
       "<Figure size 432x288 with 2 Axes>"
      ]
     },
     "metadata": {
      "needs_background": "light"
     },
     "output_type": "display_data"
    }
   ],
   "source": [
    "# Test each model and store results\n",
    "results_tfidf = {}\n",
    "for name, model in zip([\"KNN\", \"Naïve Bayes\", \"SVM\"], [knn_tfidf, nb_tfidf, svm_tfidf]):\n",
    "    y_pred = model.predict(X_test_tfidf)\n",
    "    acc = accuracy_score(y_test, y_pred)\n",
    "    results_tfidf[name] = acc\n",
    "    print(f\"{name} Accuracy (TF-IDF): {acc:.4f}\")\n",
    "    \n",
    "    # Confusion Matrix\n",
    "    cm = confusion_matrix(y_test, y_pred)\n",
    "    print(f\"{name} Confusion Matrix:\")\n",
    "    print(cm)\n",
    "    print()\n",
    "    \n",
    "    # Classification Report\n",
    "    cr = classification_report(y_test, y_pred)\n",
    "    print(f\"{name} Classification Report:\")\n",
    "    print(cr)\n",
    "    print()\n",
    "\n",
    "    # Plot Confusion Matrix\n",
    "    plt.figure(figsize=(6, 4))\n",
    "    plot_confusion_matrix(model, X_test_tfidf, y_test, cmap='Blues', display_labels=le.classes_)\n",
    "    plt.title(f\"Confusion Matrix for {name}\")\n",
    "    plt.show()\n"
   ]
  },
  {
   "cell_type": "markdown",
   "id": "undefined-comment",
   "metadata": {},
   "source": [
    "## Hypothesis Testing"
   ]
  },
  {
   "cell_type": "code",
   "execution_count": 16,
   "id": "timely-talent",
   "metadata": {},
   "outputs": [
    {
     "name": "stdout",
     "output_type": "stream",
     "text": [
      "KNN vs Naïve Bayes (BoW): t-stat=3.5369, p-value=0.0004\n",
      "KNN vs Naïve Bayes (TF-IDF): t-stat=8.3266, p-value=0.0000\n",
      "\n",
      "KNN vs Naïve Bayes (BoW): t-stat=-2.0661, p-value=0.0393\n",
      "Naïve Bayes vs SVM (TF-IDF): t-stat=-2.0661, p-value=0.0393\n",
      "\n",
      "KNN vs SVM (BoW): t-stat=2.2563, p-value=0.0244\n",
      "KNN vs SVM (TD-IDF): t-stat=3.9502, p-value=0.0001\n"
     ]
    }
   ],
   "source": [
    "from scipy.stats import ttest_rel\n",
    "\n",
    "# Example comparison of model predictions\n",
    "y_knn = knn.predict(X_test_bow)\n",
    "y_nb = nb.predict(X_test_bow)\n",
    "y_svm = svm.predict(X_test_bow)\n",
    "\n",
    "y_knn_tfidf = knn.predict(X_test_tfidf)\n",
    "y_nb_tfidf = nb.predict(X_test_tfidf)\n",
    "y_svm_tfidf = svm.predict(X_test_tfidf)\n",
    "\n",
    "# Paired t-tests\n",
    "tstat, pvalue = ttest_rel(y_knn, y_nb)\n",
    "tstat_tfidf, pvalue_tfidf = ttest_rel(y_knn_tfidf, y_nb_tfidf)\n",
    "print(f\"KNN vs Naïve Bayes (BoW): t-stat={tstat:.4f}, p-value={pvalue:.4f}\")\n",
    "print(f\"KNN vs Naïve Bayes (TF-IDF): t-stat={tstat_tfidf:.4f}, p-value={pvalue_tfidf:.4f}\\n\")\n",
    "\n",
    "tstat, pvalue = ttest_rel(y_nb, y_svm)\n",
    "tstat_tfidf, pvalue_tfidf = ttest_rel(y_knn_tfidf, y_nb_tfidf)\n",
    "print(f\"KNN vs Naïve Bayes (BoW): t-stat={tstat:.4f}, p-value={pvalue:.4f}\")\n",
    "print(f\"Naïve Bayes vs SVM (TF-IDF): t-stat={tstat:.4f}, p-value={pvalue:.4f}\\n\")\n",
    "\n",
    "tstat, pvalue = ttest_rel(y_knn, y_svm)\n",
    "tstat_tfidf, pvalue_tfidf = ttest_rel(y_knn_tfidf, y_svm_tfidf)\n",
    "print(f\"KNN vs SVM (BoW): t-stat={tstat:.4f}, p-value={pvalue:.4f}\")\n",
    "print(f\"KNN vs SVM (TD-IDF): t-stat={tstat_tfidf:.4f}, p-value={pvalue_tfidf:.4f}\")"
   ]
  },
  {
   "cell_type": "markdown",
   "id": "conservative-shirt",
   "metadata": {},
   "source": [
    "## Report Confidence Intervals"
   ]
  },
  {
   "cell_type": "code",
   "execution_count": 8,
   "id": "manual-roads",
   "metadata": {},
   "outputs": [
    {
     "name": "stdout",
     "output_type": "stream",
     "text": [
      "KNN Accuracy CI: (0.535234899328859, 0.6157718120805369)\n",
      "Naïve Bayes Accuracy CI: (0.46140939597315433, 0.5419463087248322)\n",
      "SVM Accuracy CI: (0.48825503355704697, 0.5621224832214765)\n"
     ]
    }
   ],
   "source": [
    "import numpy as np\n",
    "from sklearn.utils import resample\n",
    "\n",
    "def bootstrap_confidence_interval(data, n_resamples=1000, alpha=0.05):\n",
    "    boot_means = [np.mean(resample(data)) for _ in range(n_resamples)]\n",
    "    lower = np.percentile(boot_means, alpha / 2 * 100)\n",
    "    upper = np.percentile(boot_means, (1 - alpha / 2) * 100)\n",
    "    return lower, upper\n",
    "\n",
    "# Compute CI for each model\n",
    "for name, model in zip([\"KNN\", \"Naïve Bayes\", \"SVM\"], [knn, nb, svm]):\n",
    "    y_pred = model.predict(X_test_bow)\n",
    "    acc = accuracy_score(y_test, y_pred)\n",
    "    ci = bootstrap_confidence_interval(y_pred)\n",
    "    print(f\"{name} Accuracy CI (BoW): {ci}\")\n",
    "    \n",
    "# Compute CI for each model\n",
    "for name, model in zip([\"KNN\", \"Naïve Bayes\", \"SVM\"], [knn_tfidf, nb_tfidf, svm_tfidf]):\n",
    "    y_pred = model.predict(X_test_bow)\n",
    "    acc = accuracy_score(y_test, y_pred)\n",
    "    ci = bootstrap_confidence_interval(y_pred)\n",
    "    print(f\"{name} Accuracy CI (TF-IDF): {ci}\")\n"
   ]
  },
  {
   "cell_type": "code",
   "execution_count": 9,
   "id": "instructional-panic",
   "metadata": {},
   "outputs": [
    {
     "data": {
      "image/png": "[encoded data removed]",
      "text/plain": [
       "<Figure size 576x360 with 1 Axes>"
      ]
     },
     "metadata": {
      "needs_background": "light"
     },
     "output_type": "display_data"
    }
   ],
   "source": [
    "\n",
    "# Accuracy scores for the models\n",
    "model_names = [\"KNN\", \"Naïve Bayes\", \"SVM\"]\n",
    "accuracies = [results[\"KNN\"], results[\"Naïve Bayes\"], results[\"SVM\"]]\n",
    "\n",
    "# Plot\n",
    "plt.figure(figsize=(8, 5))\n",
    "plt.bar(model_names, accuracies, color=['blue', 'green', 'red'])\n",
    "plt.ylim(0, 1)\n",
    "plt.xlabel(\"Model\", fontsize=14)\n",
    "plt.ylabel(\"Accuracy\", fontsize=14)\n",
    "plt.title(\"Model Accuracy Comparison (BoW)\", fontsize=16)\n",
    "plt.show()\n"
   ]
  },
  {
   "cell_type": "code",
   "execution_count": 10,
   "id": "charged-exhibit",
   "metadata": {},
   "outputs": [
    {
     "data": {
      "image/png": "[encoded data removed]",
      "text/plain": [
       "<Figure size 576x360 with 1 Axes>"
      ]
     },
     "metadata": {
      "needs_background": "light"
     },
     "output_type": "display_data"
    }
   ],
   "source": [
    "# Bootstrap accuracy samples\n",
    "def bootstrap_accuracies(model, X_test, y_test, n_resamples=100):\n",
    "    accuracies = []\n",
    "    for _ in range(n_resamples):\n",
    "        sample_idx = np.random.choice(X_test.shape[0], X_test.shape[0], replace=True)\n",
    "        X_sample = X_test[sample_idx]\n",
    "        y_sample = y_test[sample_idx]\n",
    "        acc = accuracy_score(y_sample, model.predict(X_sample))\n",
    "        accuracies.append(acc)\n",
    "    return accuracies\n",
    "\n",
    "# Compute bootstrap accuracies for all models\n",
    "knn_accuracies = bootstrap_accuracies(knn, X_test_bow, y_test)\n",
    "nb_accuracies = bootstrap_accuracies(nb, X_test_bow, y_test)\n",
    "svm_accuracies = bootstrap_accuracies(svm, X_test_bow, y_test)\n",
    "\n",
    "# Create boxplot\n",
    "import seaborn as sns\n",
    "import matplotlib.pyplot as plt\n",
    "\n",
    "plt.figure(figsize=(8, 5))\n",
    "sns.boxplot(data=[knn_accuracies, nb_accuracies, svm_accuracies], palette=\"Set2\")\n",
    "plt.xticks([0, 1, 2], [\"KNN\", \"Naïve Bayes\", \"SVM\"])\n",
    "plt.xlabel(\"Model\", fontsize=14)\n",
    "plt.ylabel(\"Accuracy (Bootstrap)\", fontsize=14)\n",
    "plt.title(\"Bootstrap Accuracy Distribution (BoW)\", fontsize=16)\n",
    "plt.show()\n"
   ]
  },
  {
   "cell_type": "code",
   "execution_count": 11,
   "id": "executive-memphis",
   "metadata": {},
   "outputs": [
    {
     "data": {
      "image/png": "[encoded data removed]",
      "text/plain": [
       "<Figure size 576x432 with 1 Axes>"
      ]
     },
     "metadata": {
      "needs_background": "light"
     },
     "output_type": "display_data"
    }
   ],
   "source": [
    "from sklearn.metrics import roc_curve, auc\n",
    "\n",
    "# Compute ROC curve and AUC for each model\n",
    "plt.figure(figsize=(8, 6))\n",
    "for model, name in zip([knn, nb, svm], model_names):\n",
    "    y_prob = model.predict_proba(X_test_bow)[:, 1] if hasattr(model, \"predict_proba\") else model.decision_function(X_test_bow)\n",
    "    fpr, tpr, _ = roc_curve(y_test, y_prob)\n",
    "    roc_auc = auc(fpr, tpr)\n",
    "    plt.plot(fpr, tpr, label=f\"{name} (AUC = {roc_auc:.2f})\")\n",
    "\n",
    "# Plot settings\n",
    "plt.plot([0, 1], [0, 1], color='gray', linestyle='--')  # Diagonal line\n",
    "plt.xlabel(\"False Positive Rate\", fontsize=14)\n",
    "plt.ylabel(\"True Positive Rate\", fontsize=14)\n",
    "plt.title(\"ROC Curve Comparison (BoW)\", fontsize=16)\n",
    "plt.legend(loc=\"lower right\")\n",
    "plt.show()\n"
   ]
  },
  {
   "cell_type": "code",
   "execution_count": 12,
   "id": "systematic-walnut",
   "metadata": {},
   "outputs": [
    {
     "data": {
      "image/png": "[encoded data removed]",
      "text/plain": [
       "<Figure size 576x360 with 1 Axes>"
      ]
     },
     "metadata": {
      "needs_background": "light"
     },
     "output_type": "display_data"
    }
   ],
   "source": [
    "# Calculate paired differences\n",
    "paired_differences = {\n",
    "    \"KNN vs Naïve Bayes\": np.array(knn_accuracies) - np.array(nb_accuracies),\n",
    "    \"Naïve Bayes vs SVM\": np.array(nb_accuracies) - np.array(svm_accuracies),\n",
    "    \"KNN vs SVM\": np.array(knn_accuracies) - np.array(svm_accuracies),\n",
    "}\n",
    "\n",
    "# Boxplot for paired differences\n",
    "plt.figure(figsize=(8, 5))\n",
    "sns.boxplot(data=list(paired_differences.values()), palette=\"coolwarm\")\n",
    "plt.xticks(range(len(paired_differences)), list(paired_differences.keys()), rotation=15)\n",
    "plt.ylabel(\"Accuracy Difference\", fontsize=14)\n",
    "plt.title(\"Pairwise Accuracy Differences (BoW)\", fontsize=16)\n",
    "plt.show()"
   ]
  },
  {
   "cell_type": "code",
   "execution_count": null,
   "id": "mineral-dinner",
   "metadata": {},
   "outputs": [],
   "source": []
  },
  {
   "cell_type": "code",
   "execution_count": 36,
   "id": "biblical-designation",
   "metadata": {},
   "outputs": [],
   "source": [
    "import pandas as pd\n",
    "from sklearn.feature_extraction.text import CountVectorizer, TfidfVectorizer\n",
    "from sklearn.model_selection import train_test_split\n",
    "from sklearn.neighbors import KNeighborsClassifier\n",
    "from sklearn.metrics import accuracy_score\n",
    "import nltk\n",
    "from nltk.corpus import stopwords\n",
    "from nltk.tokenize import word_tokenize\n",
    "import string\n",
    "from sklearn.naive_bayes import MultinomialNB\n",
    "from sklearn.svm import SVC"
   ]
  },
  {
   "cell_type": "code",
   "execution_count": 7,
   "id": "civic-musical",
   "metadata": {
    "scrolled": true
   },
   "outputs": [],
   "source": [
    "# Define the dataset\n",
    "df = pd.read_csv('../Datasets/Reviews.csv')\n",
    "df = df[:50000]\n"
   ]
  },
  {
   "cell_type": "code",
   "execution_count": 4,
   "id": "catholic-festival",
   "metadata": {
    "collapsed": true
   },
   "outputs": [
    {
     "data": {
      "text/html": [
       "<div>\n",
       "<style scoped>\n",
       "    .dataframe tbody tr th:only-of-type {\n",
       "        vertical-align: middle;\n",
       "    }\n",
       "\n",
       "    .dataframe tbody tr th {\n",
       "        vertical-align: top;\n",
       "    }\n",
       "\n",
       "    .dataframe thead th {\n",
       "        text-align: right;\n",
       "    }\n",
       "</style>\n",
       "<table border=\"1\" class=\"dataframe\">\n",
       "  <thead>\n",
       "    <tr style=\"text-align: right;\">\n",
       "      <th></th>\n",
       "      <th>Id</th>\n",
       "      <th>ProductId</th>\n",
       "      <th>UserId</th>\n",
       "      <th>ProfileName</th>\n",
       "      <th>HelpfulnessNumerator</th>\n",
       "      <th>HelpfulnessDenominator</th>\n",
       "      <th>Score</th>\n",
       "      <th>Time</th>\n",
       "      <th>Summary</th>\n",
       "      <th>Text</th>\n",
       "    </tr>\n",
       "  </thead>\n",
       "  <tbody>\n",
       "    <tr>\n",
       "      <th>0</th>\n",
       "      <td>1</td>\n",
       "      <td>B001E4KFG0</td>\n",
       "      <td>A3SGXH7AUHU8GW</td>\n",
       "      <td>delmartian</td>\n",
       "      <td>1</td>\n",
       "      <td>1</td>\n",
       "      <td>5</td>\n",
       "      <td>1303862400</td>\n",
       "      <td>Good Quality Dog Food</td>\n",
       "      <td>I have bought several of the Vitality canned d...</td>\n",
       "    </tr>\n",
       "    <tr>\n",
       "      <th>1</th>\n",
       "      <td>2</td>\n",
       "      <td>B00813GRG4</td>\n",
       "      <td>A1D87F6ZCVE5NK</td>\n",
       "      <td>dll pa</td>\n",
       "      <td>0</td>\n",
       "      <td>0</td>\n",
       "      <td>1</td>\n",
       "      <td>1346976000</td>\n",
       "      <td>Not as Advertised</td>\n",
       "      <td>Product arrived labeled as Jumbo Salted Peanut...</td>\n",
       "    </tr>\n",
       "    <tr>\n",
       "      <th>2</th>\n",
       "      <td>3</td>\n",
       "      <td>B000LQOCH0</td>\n",
       "      <td>ABXLMWJIXXAIN</td>\n",
       "      <td>Natalia Corres \"Natalia Corres\"</td>\n",
       "      <td>1</td>\n",
       "      <td>1</td>\n",
       "      <td>4</td>\n",
       "      <td>1219017600</td>\n",
       "      <td>\"Delight\" says it all</td>\n",
       "      <td>This is a confection that has been around a fe...</td>\n",
       "    </tr>\n",
       "    <tr>\n",
       "      <th>3</th>\n",
       "      <td>4</td>\n",
       "      <td>B000UA0QIQ</td>\n",
       "      <td>A395BORC6FGVXV</td>\n",
       "      <td>Karl</td>\n",
       "      <td>3</td>\n",
       "      <td>3</td>\n",
       "      <td>2</td>\n",
       "      <td>1307923200</td>\n",
       "      <td>Cough Medicine</td>\n",
       "      <td>If you are looking for the secret ingredient i...</td>\n",
       "    </tr>\n",
       "    <tr>\n",
       "      <th>4</th>\n",
       "      <td>5</td>\n",
       "      <td>B006K2ZZ7K</td>\n",
       "      <td>A1UQRSCLF8GW1T</td>\n",
       "      <td>Michael D. Bigham \"M. Wassir\"</td>\n",
       "      <td>0</td>\n",
       "      <td>0</td>\n",
       "      <td>5</td>\n",
       "      <td>1350777600</td>\n",
       "      <td>Great taffy</td>\n",
       "      <td>Great taffy at a great price.  There was a wid...</td>\n",
       "    </tr>\n",
       "    <tr>\n",
       "      <th>...</th>\n",
       "      <td>...</td>\n",
       "      <td>...</td>\n",
       "      <td>...</td>\n",
       "      <td>...</td>\n",
       "      <td>...</td>\n",
       "      <td>...</td>\n",
       "      <td>...</td>\n",
       "      <td>...</td>\n",
       "      <td>...</td>\n",
       "      <td>...</td>\n",
       "    </tr>\n",
       "    <tr>\n",
       "      <th>4995</th>\n",
       "      <td>4996</td>\n",
       "      <td>B00653KJ5M</td>\n",
       "      <td>AGE64SY3HP9RV</td>\n",
       "      <td>CZ</td>\n",
       "      <td>1</td>\n",
       "      <td>1</td>\n",
       "      <td>2</td>\n",
       "      <td>1341273600</td>\n",
       "      <td>The cavemen must have been wealthy</td>\n",
       "      <td>I really wanted to like these.&lt;br /&gt;&lt;br /&gt;Firs...</td>\n",
       "    </tr>\n",
       "    <tr>\n",
       "      <th>4996</th>\n",
       "      <td>4997</td>\n",
       "      <td>B00653KJ5M</td>\n",
       "      <td>A1MPEPNJ2NKWM</td>\n",
       "      <td>Rachel Albert Matesz</td>\n",
       "      <td>1</td>\n",
       "      <td>1</td>\n",
       "      <td>1</td>\n",
       "      <td>1341100800</td>\n",
       "      <td>These cookies need work; you can make your own...</td>\n",
       "      <td>I was not impressed with these cookies when I ...</td>\n",
       "    </tr>\n",
       "    <tr>\n",
       "      <th>4997</th>\n",
       "      <td>4998</td>\n",
       "      <td>B00653KJ5M</td>\n",
       "      <td>A1T6I625FGQS20</td>\n",
       "      <td>IL</td>\n",
       "      <td>1</td>\n",
       "      <td>1</td>\n",
       "      <td>3</td>\n",
       "      <td>1336694400</td>\n",
       "      <td>Okay in a pinch - not great</td>\n",
       "      <td>The cookies came sealed and seem to be high qu...</td>\n",
       "    </tr>\n",
       "    <tr>\n",
       "      <th>4998</th>\n",
       "      <td>4999</td>\n",
       "      <td>B00653KJ5M</td>\n",
       "      <td>A3POAWC2JPQQQP</td>\n",
       "      <td>me</td>\n",
       "      <td>0</td>\n",
       "      <td>0</td>\n",
       "      <td>4</td>\n",
       "      <td>1342137600</td>\n",
       "      <td>they are good (except for the \"rainforest\" fla...</td>\n",
       "      <td>These taste very good, but aren't like the BES...</td>\n",
       "    </tr>\n",
       "    <tr>\n",
       "      <th>4999</th>\n",
       "      <td>5000</td>\n",
       "      <td>B00653KJ5M</td>\n",
       "      <td>A122CSYJ3YSKI0</td>\n",
       "      <td>Shaimun</td>\n",
       "      <td>0</td>\n",
       "      <td>0</td>\n",
       "      <td>5</td>\n",
       "      <td>1337990400</td>\n",
       "      <td>Great Healthy Snack!</td>\n",
       "      <td>I love these cookies. I am on the paleo diet r...</td>\n",
       "    </tr>\n",
       "  </tbody>\n",
       "</table>\n",
       "<p>5000 rows × 10 columns</p>\n",
       "</div>"
      ],
      "text/plain": [
       "        Id   ProductId          UserId                      ProfileName  \\\n",
       "0        1  B001E4KFG0  A3SGXH7AUHU8GW                       delmartian   \n",
       "1        2  B00813GRG4  A1D87F6ZCVE5NK                           dll pa   \n",
       "2        3  B000LQOCH0   ABXLMWJIXXAIN  Natalia Corres \"Natalia Corres\"   \n",
       "3        4  B000UA0QIQ  A395BORC6FGVXV                             Karl   \n",
       "4        5  B006K2ZZ7K  A1UQRSCLF8GW1T    Michael D. Bigham \"M. Wassir\"   \n",
       "...    ...         ...             ...                              ...   \n",
       "4995  4996  B00653KJ5M   AGE64SY3HP9RV                               CZ   \n",
       "4996  4997  B00653KJ5M   A1MPEPNJ2NKWM             Rachel Albert Matesz   \n",
       "4997  4998  B00653KJ5M  A1T6I625FGQS20                               IL   \n",
       "4998  4999  B00653KJ5M  A3POAWC2JPQQQP                               me   \n",
       "4999  5000  B00653KJ5M  A122CSYJ3YSKI0                          Shaimun   \n",
       "\n",
       "      HelpfulnessNumerator  HelpfulnessDenominator  Score        Time  \\\n",
       "0                        1                       1      5  1303862400   \n",
       "1                        0                       0      1  1346976000   \n",
       "2                        1                       1      4  1219017600   \n",
       "3                        3                       3      2  1307923200   \n",
       "4                        0                       0      5  1350777600   \n",
       "...                    ...                     ...    ...         ...   \n",
       "4995                     1                       1      2  1341273600   \n",
       "4996                     1                       1      1  1341100800   \n",
       "4997                     1                       1      3  1336694400   \n",
       "4998                     0                       0      4  1342137600   \n",
       "4999                     0                       0      5  1337990400   \n",
       "\n",
       "                                                Summary  \\\n",
       "0                                 Good Quality Dog Food   \n",
       "1                                     Not as Advertised   \n",
       "2                                 \"Delight\" says it all   \n",
       "3                                        Cough Medicine   \n",
       "4                                           Great taffy   \n",
       "...                                                 ...   \n",
       "4995                 The cavemen must have been wealthy   \n",
       "4996  These cookies need work; you can make your own...   \n",
       "4997                        Okay in a pinch - not great   \n",
       "4998  they are good (except for the \"rainforest\" fla...   \n",
       "4999                               Great Healthy Snack!   \n",
       "\n",
       "                                                   Text  \n",
       "0     I have bought several of the Vitality canned d...  \n",
       "1     Product arrived labeled as Jumbo Salted Peanut...  \n",
       "2     This is a confection that has been around a fe...  \n",
       "3     If you are looking for the secret ingredient i...  \n",
       "4     Great taffy at a great price.  There was a wid...  \n",
       "...                                                 ...  \n",
       "4995  I really wanted to like these.<br /><br />Firs...  \n",
       "4996  I was not impressed with these cookies when I ...  \n",
       "4997  The cookies came sealed and seem to be high qu...  \n",
       "4998  These taste very good, but aren't like the BES...  \n",
       "4999  I love these cookies. I am on the paleo diet r...  \n",
       "\n",
       "[5000 rows x 10 columns]"
      ]
     },
     "execution_count": 4,
     "metadata": {},
     "output_type": "execute_result"
    }
   ],
   "source": [
    "df"
   ]
  },
  {
   "cell_type": "code",
   "execution_count": 8,
   "id": "listed-thermal",
   "metadata": {},
   "outputs": [],
   "source": [
    "# Preprocessing Function\n",
    "def preprocess_text(text):\n",
    "    # Convert to lowercase\n",
    "    text = text.lower()\n",
    "    # Remove punctuation\n",
    "    text = text.translate(str.maketrans('', '', string.punctuation))\n",
    "    # Tokenization\n",
    "    tokens = word_tokenize(text)\n",
    "    # Remove stop words\n",
    "    stop_words = set(stopwords.words('english'))\n",
    "    tokens = [word for word in tokens if word not in stop_words]\n",
    "    # Join tokens back to string\n",
    "    return ' '.join(tokens)"
   ]
  },
  {
   "cell_type": "code",
   "execution_count": 9,
   "id": "automatic-undergraduate",
   "metadata": {},
   "outputs": [],
   "source": [
    "# Apply preprocessing\n",
    "processedReview = df['Text'].apply(preprocess_text)"
   ]
  },
  {
   "cell_type": "code",
   "execution_count": 30,
   "id": "weekly-baker",
   "metadata": {},
   "outputs": [],
   "source": [
    "# Splitting data into training and testing\n",
    "x = processedReview\n",
    "y = df['Score']\n",
    "x_train, x_test, y_train, y_test = train_test_split(x, y, test_size=0.1, random_state=42)"
   ]
  },
  {
   "cell_type": "code",
   "execution_count": 31,
   "id": "activated-movement",
   "metadata": {},
   "outputs": [
    {
     "data": {
      "text/plain": [
       "(45000, 5000)"
      ]
     },
     "execution_count": 31,
     "metadata": {},
     "output_type": "execute_result"
    }
   ],
   "source": [
    "len(x_train), len(x_test)"
   ]
  },
  {
   "cell_type": "code",
   "execution_count": 32,
   "id": "steady-hometown",
   "metadata": {},
   "outputs": [],
   "source": [
    "# Feature Extraction: Bag-of-Words\n",
    "bow_vectorizer = CountVectorizer(max_features=3000, stop_words='english')\n",
    "x_train_bow = bow_vectorizer.fit_transform(x_train)\n",
    "x_test_bow = bow_vectorizer.transform(x_test)"
   ]
  },
  {
   "cell_type": "code",
   "execution_count": 33,
   "id": "elect-ethnic",
   "metadata": {},
   "outputs": [],
   "source": [
    "# Feature Extraction: TF-IDF\n",
    "tfidf_vectorizer = TfidfVectorizer(max_features=3000, stop_words='english')\n",
    "x_train_tfidf = tfidf_vectorizer.fit_transform(x_train)\n",
    "x_test_tfidf = tfidf_vectorizer.transform(x_test)"
   ]
  },
  {
   "cell_type": "code",
   "execution_count": 34,
   "id": "constitutional-willow",
   "metadata": {},
   "outputs": [
    {
     "name": "stdout",
     "output_type": "stream",
     "text": [
      "KNN Accuracy (BoW): 0.62\n",
      "KNN Accuracy (TF-IDF): 0.61\n"
     ]
    }
   ],
   "source": [
    "# KNN Classifier using Bag-of-Words\n",
    "knn_bow = KNeighborsClassifier(n_neighbors=7)\n",
    "knn_bow.fit(x_train_bow, y_train)\n",
    "y_pred_bow = knn_bow.predict(x_test_bow)\n",
    "accuracy_bow = accuracy_score(y_test, y_pred_bow)\n",
    "print(f\"KNN Accuracy (BoW): {accuracy_bow:.2f}\")\n",
    "\n",
    "# KNN Classifier using TF-IDF\n",
    "knn_tfidf = KNeighborsClassifier(n_neighbors=7)\n",
    "knn_tfidf.fit(x_train_tfidf, y_train)\n",
    "y_pred_tfidf = knn_tfidf.predict(x_test_tfidf)\n",
    "accuracy_tfidf = accuracy_score(y_test, y_pred_tfidf)\n",
    "print(f\"KNN Accuracy (TF-IDF): {accuracy_tfidf:.2f}\")"
   ]
  },
  {
   "cell_type": "code",
   "execution_count": 37,
   "id": "destroyed-congress",
   "metadata": {},
   "outputs": [
    {
     "name": "stdout",
     "output_type": "stream",
     "text": [
      "Naïve Bayes Accuracy (BoW): 0.62\n",
      "Naïve Bayes Accuracy (BoW): 0.61\n"
     ]
    }
   ],
   "source": [
    "# Naïve Bayes\n",
    "nb_bow = MultinomialNB(alpha=1.0)\n",
    "nb_bow.fit(x_train_bow, y_train)\n",
    "y_nb_pred_bow = nb_bow.predict(x_test_bow)\n",
    "nb_bow_acc = accuracy_score(y_test, y_pred_bow)\n",
    "print(f\"Naïve Bayes Accuracy (BoW): {nb_bow_acc:.2f}\")\n",
    "\n",
    "nb_tfidf = MultinomialNB(alpha=1.0)\n",
    "nb_tfidf.fit(x_train_tfidf, y_train)\n",
    "y_nb_pred_tfidf = nb_bow.predict(x_test_tfidf)\n",
    "nb_tfidf_acc = accuracy_score(y_test, y_pred_tfidf)\n",
    "print(f\"Naïve Bayes Accuracy (BoW): {nb_tfidf_acc:.2f}\")"
   ]
  },
  {
   "cell_type": "code",
   "execution_count": null,
   "id": "current-willow",
   "metadata": {},
   "outputs": [],
   "source": [
    "# SVM\n",
    "svm_bow = SVC(C=1.0, kernel='linear', probability=True)\n",
    "svm_bow.fit(x_train_bow, y_train)\n",
    "y_svm_pred_bow = svm_bow.predict(x_test_bow)\n",
    "svm_bow_acc = accuracy_score(y_test, y_pred_bow)\n",
    "print(f\"SVM Accuracy (BoW): {svm_bow_acc:.2f}\")\n",
    "\n",
    "\n",
    "svm_tfidf = SVC(C=1.0, kernel='linear', probability=True)\n",
    "svm_tfidf.fit(x_train_tfidf, y_train)\n",
    "y_svm_pred_tfidf = svm_bow.predict(x_test_tfidf)\n",
    "svm_tfidf_acc = accuracy_score(y_test, y_pred_tfidf)\n",
    "print(f\"Naïve Bayes Accuracy (BoW): {svm_tfidf_acc:.2f}\")"
   ]
  },
  {
   "cell_type": "code",
   "execution_count": null,
   "id": "running-rough",
   "metadata": {},
   "outputs": [],
   "source": []
  }
 ],
 "metadata": {
  "kernelspec": {
   "display_name": "Python 3",
   "language": "python",
   "name": "python3"
  },
  "language_info": {
   "codemirror_mode": {
    "name": "ipython",
    "version": 3
   },
   "file_extension": ".py",
   "mimetype": "text/x-python",
   "name": "python",
   "nbconvert_exporter": "python",
   "pygments_lexer": "ipython3",
   "version": "3.7.9"
  }
 },
 "nbformat": 4,
 "nbformat_minor": 5
}
